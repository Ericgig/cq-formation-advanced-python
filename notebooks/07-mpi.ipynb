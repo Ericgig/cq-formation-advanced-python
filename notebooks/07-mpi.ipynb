{
 "cells": [
  {
   "cell_type": "markdown",
   "metadata": {},
   "source": [
    "---\n",
    "Scaling Beyond One Machine\n",
    "---\n",
    "\n",
    "The technique used with the multiprocessing Python module is a fast way to achieve good scaling. Although it is based on a distributed-memory (processes) pattern, it doesn't provide scaling beyond one physical machine. For that, you need something that provides transparent network communication between processes. There are a multitude of solutions for this kind of pattern when using Python but we'll stick with an old, but proven, method called MPI."
   ]
  },
  {
   "cell_type": "markdown",
   "metadata": {},
   "source": [
    "### MPI\n",
    "\n",
    "MPI stands for _Message Passing Interface_. As its name implies, it is a library for passing messages around between processes. A message can be anything from a simple digit to a giant Numpy matix. It is important to note that it is built to handle message passing between processes that may or may not be on the same machine. It means this method can scale to hundreds or thousands of computing cores. "
   ]
  },
  {
   "cell_type": "markdown",
   "metadata": {},
   "source": [
    "### How Does It Work?\n",
    "\n",
    "Since it is an interface, many libraries can implement it. We are going to focus on [OpenMPI](https://www.open-mpi.org/) since it is open source and is widely available on many clusters.\n",
    "\n",
    "Usually, when you run a Python program, you will use something like this:\n",
    "\n",
    "~~~ {.input}\n",
    "$ python my_program.py --argument1 ...\n",
    "~~~\n",
    "\n",
    "Similarly, when you run an MPI-enabled program, you will use a launcher to start multiple instances (processes) of your program:\n",
    "\n",
    "~~~ {.input}\n",
    "$ mpirun python my_program.py --argument1 ...\n",
    "~~~\n",
    "\n",
    "The default configuration on most machines, when using OpenMPI, is to use the same number of processes that there are cores available. It is possible to specify exactly the number of processes you want, for example if you are memory constrained. This would launch your program using 2 processes:\n",
    "\n",
    "~~~ {.input}\n",
    "$ mpirun -n 2 python my_program.py --argument1 ...\n",
    "~~~"
   ]
  },
  {
   "cell_type": "markdown",
   "metadata": {},
   "source": [
    "If you try to run a non-MPI-enabled program using the mpirun launcher, you will have 2 instances doing exactly the same thing, not communicating with each other. When doing parallel computation, you want to split your input data, like in the multiprocessing example, and distribute it amongst all participant processes.\n",
    "\n",
    "### MPI-enabled Python Program\n",
    "\n",
    "The most basic MPI-enabled program would look like this:"
   ]
  },
  {
   "cell_type": "code",
   "execution_count": null,
   "metadata": {
    "collapsed": false
   },
   "outputs": [],
   "source": [
    "import os\n",
    "os.chdir(os.getenv('HOME') + '/cq-formation-advanced-python')"
   ]
  },
  {
   "cell_type": "code",
   "execution_count": null,
   "metadata": {
    "collapsed": false
   },
   "outputs": [],
   "source": [
    "%%writefile mpi.py\n",
    "from mpi4py import MPI\n",
    "\n",
    "comm = MPI.COMM_WORLD\n",
    "rank = comm.Get_rank()\n",
    "size = comm.Get_size()\n",
    "\n",
    "print(\"I am rank\", rank, \"of\", size)"
   ]
  },
  {
   "cell_type": "markdown",
   "metadata": {},
   "source": [
    "We first import the MPI library from the mpi4py package. The _comm_ variable stands for communicator, which is a fundamental part of the MPI programming paradigm: all communication between processes or groups of processes are sent using a communicator. You can see it as a pool of processes participating in a meeting. One communicator, called world, always exist and includes all processes.\n",
    "\n",
    "The other interesting concept is the rank. Each process is assigned a unique number, ranging from 0 to _n_-1, where n is the total number of processes. This unique number is called a rank and is used to communicate with one process in particular."
   ]
  },
  {
   "cell_type": "markdown",
   "metadata": {},
   "source": [
    "Let's try our first run of our MPI program:"
   ]
  },
  {
   "cell_type": "code",
   "execution_count": null,
   "metadata": {
    "collapsed": false
   },
   "outputs": [],
   "source": [
    "!mpirun -np 4 python mpi.py"
   ]
  },
  {
   "cell_type": "markdown",
   "metadata": {},
   "source": [
    "As expected, we have 4 ranks, numbered 0 to 3. The interesting thing to notice is that the output is not sequential. This is the first thing to remember: those processes are really independent processes. They do their own thing, whenever they are ready, unless we synchronize them in some way, either explicitly or by adding communication between them.\n",
    "\n",
    "The most important aspect of MPI programming is, as it was with the multiprocessing module, is to take care to split our processing equitably between processes. Since we will start with our multiprocessing solution from the last topic, we will use the same interval-splitting and go straight to communication."
   ]
  },
  {
   "cell_type": "markdown",
   "metadata": {},
   "source": [
    "> ## Smiling Processes {.challenge}\n",
    ">\n",
    "> Do the following:\n",
    ">\n",
    "> 1. Run the exercices/smiley.py python script using mpirun and 4 processes.\n",
    "> 2. Make each process print a different smiley face.\n",
    ">\n",
    "> A possible solution can be found in the solutions/smiley.py file."
   ]
  },
  {
   "cell_type": "code",
   "execution_count": null,
   "metadata": {
    "collapsed": false
   },
   "outputs": [],
   "source": [
    "# %load exercices/smiley.py\n",
    "from mpi4py import MPI\n",
    "\n",
    "comm = MPI.COMM_WORLD\n",
    "rank = comm.Get_rank()\n",
    "size = comm.Get_size()\n",
    "\n",
    "print( \"%3d/%-3d   :-D\\n\"%rank, size )\n",
    "\n"
   ]
  },
  {
   "cell_type": "markdown",
   "metadata": {},
   "source": [
    "Let's have a look back at our previous (simplified) multiprocessing solution:"
   ]
  },
  {
   "cell_type": "code",
   "execution_count": null,
   "metadata": {
    "collapsed": true
   },
   "outputs": [],
   "source": [
    "import sys\n",
    "import math\n",
    "import time\n",
    "\n",
    "from multiprocessing import Pool\n",
    "\n",
    "def approx_pi(intervals):\n",
    "    pi = 0.0\n",
    "    for i in range(intervals[0], intervals[1]):\n",
    "        pi += (4 - 8 * (i % 2)) / (float)(2 * i + 1)\n",
    "    return pi\n",
    "\n",
    "n = int(sys.argv[1])\n",
    "chunk_size = n/4\n",
    "intervals = map(lambda p: [p*chunk_size, p*chunk_size+chunk_size], range(4))\n",
    "intervals[-1][1] = max(intervals[-1][1], n)\n",
    "\n",
    "p = Pool(4)\n",
    "pi = sum(p.map(approx_pi, intervals))"
   ]
  },
  {
   "cell_type": "markdown",
   "metadata": {},
   "source": [
    "### Communication\n",
    "\n",
    "In MPI, there are two communication patterns:\n",
    "\n",
    "1. Point to Point: used for exchanging data between two processes.\n",
    "2. Collective Operations: used for exchanging data between any number of processes, in one operation.\n",
    "\n",
    "We will re-implement the previous example, in turn, using both communication patterns.\n",
    "\n",
    "#### Point to Point\n",
    "\n",
    "This mode of communication implies that one process can talk to only one other process at a time. One approach we could use in our implementation is to elect a process as our master process, and make it compute our intervals and send it to each other processes, one at a time. We will use our rank 0 for this task.\n",
    "\n",
    "> ## Rank 0 {.callout}\n",
    "> \n",
    "> In most MPI program, rank 0 is doing more things like initialization or data distribution. Keep in mind that this is a design decision and that rank 0 is exactly the same as other processes. It just happens that rank 0 will always exist (since it's the first process) so people tend to choose that one for this coordinating role.\n",
    "\n",
    "The first thing we will add is the MPI library import:"
   ]
  },
  {
   "cell_type": "code",
   "execution_count": null,
   "metadata": {
    "collapsed": true
   },
   "outputs": [],
   "source": [
    "from mpi4py import MPI"
   ]
  },
  {
   "cell_type": "markdown",
   "metadata": {},
   "source": [
    "In our previous example, we had split our inputs into 4 intervals, assuming 4 processes. We want to become more generic here and plan for any number of processes:"
   ]
  },
  {
   "cell_type": "code",
   "execution_count": null,
   "metadata": {
    "collapsed": true
   },
   "outputs": [],
   "source": [
    "    comm = MPI.COMM_WORLD\n",
    "    rank = comm.Get_rank()\n",
    "    size = comm.Get_size()\n",
    "    \n",
    "    n = int(sys.argv[1])\n",
    "    chunk_size = n/size\n",
    "    intervals = map(lambda p: [p*chunk_size, p*chunk_size+chunk_size], range(size))\n",
    "    intervals[-1][1] = max(intervals[-1][1], n)"
   ]
  },
  {
   "cell_type": "markdown",
   "metadata": {},
   "source": [
    "Notice that we compute our chunk_size by dividing it by the number of ranks (processes) instead of 4.\n",
    "\n",
    "We then go on with the intervals distribution to all ranks, using point to point communication:"
   ]
  },
  {
   "cell_type": "code",
   "execution_count": null,
   "metadata": {
    "collapsed": true
   },
   "outputs": [],
   "source": [
    "    if rank == 0:\n",
    "        myInterval = intervals[0]\n",
    "        for otherRank in range(1, size):\n",
    "            comm.send(intervals[otherRank], dest=otherRank)\n",
    "    else:\n",
    "        myInterval = comm.recv(source=0)"
   ]
  },
  {
   "cell_type": "markdown",
   "metadata": {},
   "source": [
    "At this point, each process has a myInterval variable defined as their own share of the data to process. myInterval on rank 0 would be [0, 25000000], on rank 1 [25000000, 50000000], and so on. Remember that we are still using processes, with a distributed memory model. That means every process has its own independent variable myInterval, with different values.\n",
    "\n",
    "Notice the two point to point communication functions used:\n",
    "\n",
    "1. comm.send: it is used to send, synchronously, data to a specific rank. Here we send the sub-list intervals[otherRank] to the rank otherRank.\n",
    "2. comm.recv: it is used to receive, synchronously, data from a specific rank. Here we want to receive data from rank 0 (source=0).\n",
    "\n",
    "Note that those are blocking operations: it means if rank 0 forgets to send data to a rank, this rank will be blocked on the comm.recv call forever.\n",
    "\n",
    "Once everyone has its share of the input data to process, here their own interval, we can process it using the approx_pi function, without modifying it:"
   ]
  },
  {
   "cell_type": "code",
   "execution_count": null,
   "metadata": {
    "collapsed": true
   },
   "outputs": [],
   "source": [
    "    partial_pi = approx_pi(myInterval)"
   ]
  },
  {
   "cell_type": "markdown",
   "metadata": {},
   "source": [
    "Once we have the partial sums, we need to get the result back to rank 0, and sum them all:"
   ]
  },
  {
   "cell_type": "code",
   "execution_count": null,
   "metadata": {
    "collapsed": true
   },
   "outputs": [],
   "source": [
    "    if rank == 0:\n",
    "        pi = partial_pi\n",
    "        for otherRank in range(1, size):\n",
    "            pi += comm.recv(source=otherRank)\n",
    "    else:\n",
    "        comm.send(partial_pi, dest=0)"
   ]
  },
  {
   "cell_type": "markdown",
   "metadata": {},
   "source": [
    "One last thing to note: you usually want to output results, either on the terminal on to a file, only from one rank. So we will add the following to make sure only rank 0 prints the result:"
   ]
  },
  {
   "cell_type": "code",
   "execution_count": null,
   "metadata": {
    "collapsed": true
   },
   "outputs": [],
   "source": [
    "    if rank == 0:\n",
    "        t2 = time.time()\n",
    "        print(\"PI is approximately %.16f, Error is %.16f\"%(pi, abs(pi - math.pi)))\n",
    "        print(\"Time = %.16f sec\\n\"%(t2 - t1))"
   ]
  },
  {
   "cell_type": "markdown",
   "metadata": {},
   "source": [
    "Also remember that only rank 0 has done this summing so only rank 0 known the final pi value. Let's recap everything at the same place:"
   ]
  },
  {
   "cell_type": "code",
   "execution_count": null,
   "metadata": {
    "collapsed": false
   },
   "outputs": [],
   "source": [
    "%%writefile approx_pi_mpi.py\n",
    "from mpi4py import MPI\n",
    "\n",
    "import sys\n",
    "import math\n",
    "import time\n",
    "\n",
    "def approx_pi(intervals):\n",
    "    pi = 0.0\n",
    "    for i in range(intervals[0], intervals[1]):\n",
    "        pi += (4 - 8 * (i % 2)) / (float)(2 * i + 1)\n",
    "    return pi\n",
    "\n",
    "if __name__ == \"__main__\":\n",
    "    if len(sys.argv) != 2:\n",
    "        print >> sys.stderr, \"usage: {0} <intervals>\".format(sys.argv[0])\n",
    "        sys.exit(1)\n",
    "\n",
    "    t1 = time.time()\n",
    "\n",
    "    comm = MPI.COMM_WORLD\n",
    "    rank = comm.Get_rank()\n",
    "    size = comm.Get_size()\n",
    "    \n",
    "    n = int(sys.argv[1])\n",
    "    chunk_size = n//size\n",
    "    intervals = [[p*chunk_size, p*chunk_size+chunk_size] for p in range(size)]\n",
    "    intervals[-1][1] = max(intervals[-1][1], n)\n",
    "\n",
    "    if rank == 0:\n",
    "        myInterval = intervals[0]\n",
    "        for otherRank in range(1, size):\n",
    "            comm.send(intervals[otherRank], dest=otherRank)\n",
    "    else:\n",
    "        myInterval = comm.recv(source=0)\n",
    "\n",
    "    partial_pi = approx_pi(myInterval)\n",
    "    print(\"Rank\", rank, \"partial pi:\", partial_pi)\n",
    "\n",
    "    if rank == 0:\n",
    "        pi = partial_pi\n",
    "        for otherRank in range(1, size):\n",
    "            pi += comm.recv(source=otherRank)\n",
    "    else:\n",
    "        comm.send(partial_pi, dest=0)\n",
    "\n",
    "    if rank == 0:\n",
    "        t2 = time.time()\n",
    "        print(\"PI is approximately %.16f, Error is %.16f\"%(pi, abs(pi - math.pi)))\n",
    "        print(\"Time = %.16f sec\\n\"%(t2 - t1))"
   ]
  },
  {
   "cell_type": "code",
   "execution_count": null,
   "metadata": {
    "collapsed": false
   },
   "outputs": [],
   "source": [
    "! mpirun -np 4 python approx_pi_mpi.py 100000000"
   ]
  },
  {
   "cell_type": "markdown",
   "metadata": {},
   "source": [
    "We get about the same run time as with our multiprocessing example, which is good. The code is arguably more complex, but keep in mind that now, we can scale beyond one single machine without changing a single line of code, which can be really useful, or even mandatory, to solve difficult problems.\n",
    "\n",
    "#### Collective Operations\n",
    "\n",
    "Collective operations imply that multiple processes coordinate for communicating. There are a handful of patterns that can be used:\n",
    "\n",
    "* Broadcasting: used for sending the same data from one process to one or more processes.\n",
    "* Scattering: used for sending chunks of data to multiple processes.\n",
    "* Gathering: used for collecting chunks of data from multiple processes to one process.\n",
    "\n",
    "Our interval distribution sure looks like scattering so we'll try to simplify our code a little using this collective operation. This is the sending part of our previous example:"
   ]
  },
  {
   "cell_type": "code",
   "execution_count": null,
   "metadata": {
    "collapsed": true
   },
   "outputs": [],
   "source": [
    "    if rank == 0:\n",
    "        myInterval = intervals[0]\n",
    "        for otherRank in range(1, size):\n",
    "            comm.send(intervals[otherRank], dest=otherRank)\n",
    "    else:\n",
    "        myInterval = comm.recv(source=0)"
   ]
  },
  {
   "cell_type": "markdown",
   "metadata": {},
   "source": [
    "It could be rewritten using a scatter collective operation like this:"
   ]
  },
  {
   "cell_type": "code",
   "execution_count": null,
   "metadata": {
    "collapsed": true
   },
   "outputs": [],
   "source": [
    "    myInterval = comm.scatter(intervals, root=0)"
   ]
  },
  {
   "cell_type": "markdown",
   "metadata": {},
   "source": [
    "The _intervals_ list must have the same number of elements as there are processes in the communicator used, which is the case here.\n",
    "\n",
    "At the end, the reverse operation looks like a gathering. We want to get all data back to rank 0 so it can sum the partial sums. This is the code we had previously:"
   ]
  },
  {
   "cell_type": "code",
   "execution_count": null,
   "metadata": {
    "collapsed": true
   },
   "outputs": [],
   "source": [
    "    if rank == 0:\n",
    "        pi = partial_pi\n",
    "        for otherRank in range(1, size):\n",
    "            pi += comm.recv(source=otherRank)\n",
    "    else:\n",
    "        comm.send(partial_pi, dest=0)"
   ]
  },
  {
   "cell_type": "markdown",
   "metadata": {},
   "source": [
    "Which can be replaced with the following:"
   ]
  },
  {
   "cell_type": "code",
   "execution_count": null,
   "metadata": {
    "collapsed": true
   },
   "outputs": [],
   "source": [
    "    partial_sums = comm.gather(partial_pi, root=0)\n",
    "    if rank == 0:\n",
    "        pi = sum(partial_sums)"
   ]
  },
  {
   "cell_type": "markdown",
   "metadata": {},
   "source": [
    "Note that partial_sums will be a list of all partial_pi on rank 0 and None on all other ranks.\n",
    "\n",
    "#### Reduction\n",
    "\n",
    "As we have seen previously, certain operations, like summing values from all processes, are called reductions. What we have done so far is called a manual reduction and might not be the most effective way to do it. Imagine having 10s of millions of elements to sum: would it be wise to send every single value to one single rank, and sum them while other processes just sit there and wait? Reduction, as implemented in most MPI libraries, have (hidden) strategies for such cases.\n",
    "\n",
    "Let's have a look at the way we do it now:"
   ]
  },
  {
   "cell_type": "code",
   "execution_count": null,
   "metadata": {
    "collapsed": true
   },
   "outputs": [],
   "source": [
    "    partial_sums = comm.gather(partial_pi, root=0)\n",
    "\n",
    "    if rank == 0:\n",
    "        pi = sum(partial_sums)"
   ]
  },
  {
   "cell_type": "markdown",
   "metadata": {},
   "source": [
    "This could be done efficiently, on many processes, using a reduction operation:"
   ]
  },
  {
   "cell_type": "code",
   "execution_count": null,
   "metadata": {
    "collapsed": true
   },
   "outputs": [],
   "source": [
    "    pi = comm.reduce(partial_pi, op=MPI.SUM, root=0)"
   ]
  },
  {
   "cell_type": "markdown",
   "metadata": {},
   "source": [
    "This statement basically means: sum all partial_pi variables and make the result available on rank 0. Running it yields the same result, in about the same run time."
   ]
  },
  {
   "cell_type": "code",
   "execution_count": null,
   "metadata": {
    "collapsed": false
   },
   "outputs": [],
   "source": [
    "%%writefile approx_pi_mpi.py\n",
    "from mpi4py import MPI\n",
    "\n",
    "import sys\n",
    "import math\n",
    "import time\n",
    "\n",
    "def approx_pi(intervals):\n",
    "    pi = 0.0\n",
    "    for i in range(intervals[0], intervals[1]):\n",
    "        pi += (4 - 8 * (i % 2)) / (float)(2 * i + 1)\n",
    "    return pi\n",
    "\n",
    "if __name__ == \"__main__\":\n",
    "    if len(sys.argv) != 2:\n",
    "        print >> sys.stderr, \"usage: {0} <intervals>\".format(sys.argv[0])\n",
    "        sys.exit(1)\n",
    "\n",
    "    t1 = time.time()\n",
    "\n",
    "    comm = MPI.COMM_WORLD\n",
    "    rank = comm.Get_rank()\n",
    "    size = comm.Get_size()\n",
    "    \n",
    "    n = int(sys.argv[1])\n",
    "    chunk_size = n//size\n",
    "    intervals = [[p*chunk_size, p*chunk_size+chunk_size] for p in range(size)]\n",
    "    intervals[-1][1] = max(intervals[-1][1], n)\n",
    "\n",
    "    myInterval = comm.scatter(intervals, root=0)\n",
    "\n",
    "    partial_pi = approx_pi(myInterval)\n",
    "    print(\"Rank\", rank, \"partial pi:\", partial_pi)\n",
    "\n",
    "    pi = comm.reduce(partial_pi, op=MPI.SUM, root=0)\n",
    "\n",
    "    if rank == 0:\n",
    "        t2 = time.time()\n",
    "        print(\"PI is approximately %.16f, Error is %.16f\"%(pi, abs(pi - math.pi)))\n",
    "        print(\"Time = %.16f sec\\n\"%(t2 - t1))"
   ]
  },
  {
   "cell_type": "code",
   "execution_count": null,
   "metadata": {
    "collapsed": false
   },
   "outputs": [],
   "source": [
    "! mpirun -np 4 python approx_pi_mpi.py 100000000"
   ]
  },
  {
   "cell_type": "markdown",
   "metadata": {},
   "source": [
    "Note that, currently, the mpi4py implementation of the reduction operations are done naively and would do exactly what we did previously: gather everything on one rank and sum there. The advantage of using the reduction operation today is that the code is shorter, clearer, and that you will benefit from it once it is implemented in mpi4py without changing anything.\n",
    "\n",
    "> ## Dot-product {.challenge}\n",
    ">\n",
    "> Implement a MPI dot product.\n",
    "> The dot product of two vectors A and B of length n is the sum of the element-wise product of those vectors. That is, the sum of A_i * B_i, for i varying between 1 and n.\n",
    ">\n",
    "> 1. Rank 0 must initialize the two input vectors a and b where a = [1..n] and b = [n..1]\n",
    "> 2. Use the scatter algorithm to split the data between processes.\n",
    "> 3. Use the reduce algorithm to compute the final result.\n",
    ">\n",
    "> __Alternative__: In point 3, use the gather algorithm and let rank 0 compute the final result.\n",
    ">\n",
    "> A possible solution can be found in the solutions/dot_product.py file."
   ]
  },
  {
   "cell_type": "code",
   "execution_count": null,
   "metadata": {
    "collapsed": true
   },
   "outputs": [],
   "source": [
    "%load solutions/dot_product.py"
   ]
  },
  {
   "cell_type": "code",
   "execution_count": null,
   "metadata": {
    "collapsed": true
   },
   "outputs": [],
   "source": []
  }
 ],
 "metadata": {
  "kernelspec": {
   "display_name": "Python-Workshop",
   "language": "python",
   "name": "python-workshop"
  },
  "language_info": {
   "codemirror_mode": {
    "name": "ipython",
    "version": 3
   },
   "file_extension": ".py",
   "mimetype": "text/x-python",
   "name": "python",
   "nbconvert_exporter": "python",
   "pygments_lexer": "ipython3",
   "version": "3.5.0"
  }
 },
 "nbformat": 4,
 "nbformat_minor": 1
}
