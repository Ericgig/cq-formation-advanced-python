{
 "cells": [
  {
   "cell_type": "markdown",
   "metadata": {},
   "source": [
    "---\n",
    "Parallel Programming Concepts\n",
    "---\n",
    "\n",
    "This topic is a simply refresher to some concepts we need to understand when talking about parallel programming.\n",
    "\n",
    "### Task Types\n",
    "\n",
    "There are two main types of software:\n",
    "\n",
    "1. Serial\n",
    "2. Parallel\n",
    "\n",
    "Serial software is simple as it executes only one instruction at a time. More precisely, it is one thread running in one process. When talking about parallel software, we mean that multiple instructions can run at the same time, doing the same or different work. It involves multiple threads or processes, depending on the technique used.\n",
    "\n",
    "### Parallelism Concepts\n",
    "\n",
    "#### Programming Models\n",
    "\n",
    "##### Shared Memory\n",
    "\n",
    "This is when parallel software tasks communicate with each other using shared memory. This is mainly used with threads, although processes can communicate with each other using shared memory if they are on the same machine.\n",
    "\n",
    "![Shared-Memory Parallelism](http://calculquebec.github.io/cq-formation-advanced-python/ul-20160216/img/parallel-thread.png)\n",
    "\n",
    "Note that:\n",
    "\n",
    "* Each parallel portion execute the same copy of the code.\n",
    "* Each thread has access to the same memory region.\n",
    "\n",
    "##### Distributed Memory\n",
    "\n",
    "This is when each task has its own memory space. This is for separate processes that can be (or not) on the same machine.\n",
    "\n",
    "![Distributed-Memory Parallelism](http://calculquebec.github.io/cq-formation-advanced-python/ul-20160216/img/parallel-process.png)\n",
    "\n",
    "Note that:\n",
    "\n",
    "* Each parallel portion execute their own copy of the code.\n",
    "* Each process has access to its own memory only.\n",
    "* Communication is done via shared-memory or network operations.\n",
    "\n",
    "#### Race Condition\n",
    "\n",
    "Race conditions arise in software when an application depends on the sequence or timing of processes or threads for it to operate properly.\n",
    "\n",
    "Source: [Wikipedia](https://en.wikipedia.org/wiki/Race_condition#Software)\n",
    "\n",
    "#### Efficiency\n",
    "\n",
    "Efficiency is the speedup that can be measured by adding more computing resources (threads or processes).\n",
    "\n",
    "Source: [Wikipedia](https://en.wikipedia.org/wiki/Speedup)\n",
    "\n"
   ]
  },
  {
   "cell_type": "code",
   "execution_count": null,
   "metadata": {
    "collapsed": true
   },
   "outputs": [],
   "source": []
  }
 ],
 "metadata": {
  "kernelspec": {
   "display_name": "Python 3",
   "language": "python",
   "name": "python3"
  },
  "language_info": {
   "codemirror_mode": {
    "name": "ipython",
    "version": 3
   },
   "file_extension": ".py",
   "mimetype": "text/x-python",
   "name": "python",
   "nbconvert_exporter": "python",
   "pygments_lexer": "ipython3",
   "version": "3.6.3"
  }
 },
 "nbformat": 4,
 "nbformat_minor": 1
}
