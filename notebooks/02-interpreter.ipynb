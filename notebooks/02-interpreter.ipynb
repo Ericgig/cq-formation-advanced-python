{
 "cells": [
  {
   "cell_type": "markdown",
   "metadata": {},
   "source": [
    "---\n",
    "Why (and What) is Python?\n",
    "---\n",
    "\n",
    "### Why Python?\n",
    "\n",
    "You might wonder why caring about accelerating your (already working) Python code is important. Let's have a look at a really simple example of PI approximation:\n",
    "\n",
    "$$\\huge{\\pi = \\arctan\\left(1\\right)}$$\n",
    "\n",
    "$$\\huge{\\pi \\approx 4 \\times \\left(\\frac{1}{1} - \\frac{1}{3} + \\frac{1}{5} - \\ldots\\right)}$$\n",
    "\n",
    "\n",
    "We'll use a naive implementation, both in C and Python for comparison.\n",
    "\n",
    "Here is the C implementation, found in approx_pi.c:"
   ]
  },
  {
   "cell_type": "code",
   "execution_count": null,
   "metadata": {
    "collapsed": false
   },
   "outputs": [],
   "source": [
    "import os\n",
    "os.chdir(\"%s/cq-formation-advanced-python\"%os.getenv(\"HOME\"))"
   ]
  },
  {
   "cell_type": "code",
   "execution_count": null,
   "metadata": {
    "collapsed": false
   },
   "outputs": [],
   "source": [
    "%%writefile approx_pi.c\n",
    "#include <math.h>\n",
    "#include <time.h>\n",
    "#include <stdio.h>\n",
    "#include <stdlib.h>\n",
    "\n",
    "double approx_pi(int);\n",
    "\n",
    "int main(int argc, char *argv[])\n",
    "{\n",
    "    clock_t t1 = clock();\n",
    "    int n = atoi(argv[1]);\n",
    "    double pi = approx_pi(n);\n",
    "    clock_t t2 = clock();\n",
    "    printf(\"PI is approximately %.16f, Error is %.16f\\n\",\n",
    "\t   pi, fabs(pi - M_PI));\n",
    "    printf(\"Time = %.16f sec\\n\", (double)(t2 - t1)/CLOCKS_PER_SEC);\n",
    "    return 0;\n",
    "}\n",
    "\n",
    "double approx_pi(int intervals)\n",
    "{\n",
    "     double pi = 0.0;\n",
    "     int i;\n",
    "     for (i = 0; i < intervals; i++) {\n",
    "         // Note: using \"float\" instead of \"double\" is a little faster here\n",
    "         pi += (4 - ((i % 2) * 8)) / (double)(2 * i + 1);\n",
    "     }\n",
    "     return pi;\n",
    "}\n"
   ]
  },
  {
   "cell_type": "markdown",
   "metadata": {},
   "source": [
    "And here is the equivalent Python implementation, found in approx_pi.py:"
   ]
  },
  {
   "cell_type": "code",
   "execution_count": null,
   "metadata": {
    "collapsed": false
   },
   "outputs": [],
   "source": [
    "%%writefile approx_pi.py\n",
    "import sys\n",
    "import math\n",
    "import time\n",
    "\n",
    "def approx_pi(intervals):\n",
    "    pi = 0.0\n",
    "    for i in range(intervals):\n",
    "        pi += (4 - 8 * (i % 2)) / (float)(2 * i + 1)\n",
    "    return pi\n",
    "\n",
    "if __name__ == \"__main__\":\n",
    "    if len(sys.argv) != 2:\n",
    "        print >> sys.stderr, \"usage: {0} <intervals>\".format(sys.argv[0])\n",
    "        sys.exit(1)\n",
    "\n",
    "    t1 = time.clock()\n",
    "    pi = approx_pi(int(sys.argv[1]))\n",
    "    t2 = time.clock()\n",
    "    print(\"PI is approximately %.16f, Error is %.16f\"%(pi, abs(pi - math.pi)))\n",
    "    print(\"Time = %.16f sec\\n\"%(t2 - t1))\n"
   ]
  },
  {
   "cell_type": "code",
   "execution_count": null,
   "metadata": {
    "collapsed": true
   },
   "outputs": [],
   "source": [
    "def approx_pi(intervals):\n",
    "    pi = 0.0\n",
    "    for i in range(intervals):\n",
    "        pi += (4 - 8 * (i % 2)) / (float)(2 * i + 1)\n",
    "    return pi"
   ]
  },
  {
   "cell_type": "markdown",
   "metadata": {},
   "source": [
    "Compiling and running the resulting binary would result in something like this:"
   ]
  },
  {
   "cell_type": "code",
   "execution_count": null,
   "metadata": {
    "collapsed": false
   },
   "outputs": [],
   "source": [
    "!make approx_pi && ./approx_pi 100000000"
   ]
  },
  {
   "cell_type": "markdown",
   "metadata": {},
   "source": [
    "Be aware that your measurements can be significantly different on different computers. Now for its Python counterpart:"
   ]
  },
  {
   "cell_type": "code",
   "execution_count": null,
   "metadata": {
    "collapsed": false
   },
   "outputs": [],
   "source": [
    "%run approx_pi.py 100000000"
   ]
  },
  {
   "cell_type": "markdown",
   "metadata": {},
   "source": [
    "You will usually notice that the C version is 80 to 100 times faster than the Python code. You can imagine that when running long simulation, this can make a huge difference."
   ]
  },
  {
   "cell_type": "markdown",
   "metadata": {},
   "source": [
    "We can also use %time and %timeit to measure performance: %timeit returns a best of 3,\n",
    "meaning it repeats 3 times calling the function in a loop and returns the best time.\n",
    "We will see how to modify this behaviour a bit later"
   ]
  },
  {
   "cell_type": "code",
   "execution_count": null,
   "metadata": {
    "collapsed": true
   },
   "outputs": [],
   "source": [
    "%time approx_pi(100000)"
   ]
  },
  {
   "cell_type": "code",
   "execution_count": null,
   "metadata": {
    "collapsed": false
   },
   "outputs": [],
   "source": [
    "%timeit approx_pi(100000)"
   ]
  },
  {
   "cell_type": "markdown",
   "metadata": {},
   "source": [
    "### What is Python?\n",
    "\n",
    "Let's take a step back and answer that question: What is Python?\n",
    "\n",
    "It is self-described as \"Python is a programing language that lets you work quickly and integrate systems more effectively\", which is quite accurate. From a development standpoint, designing, writing and deploying Python code is usually faster than the equivalent C code. As we have seen, the only problem is that you have to make some kind of effort to speed it up.\n",
    "\n",
    "The first thing to know is that when talking about Python, most people are really talking about [CPython](https://python.org). CPython is the reference implementation of the language but there are others. From the words of its authors, CPython is not always the fastest implementation. Let's try using one of them, [PyPy](http://pypy.org/), to see how they compare.\n",
    "\n",
    "Using the same Python code above, we can run it using the PyPy interpreter:"
   ]
  },
  {
   "cell_type": "code",
   "execution_count": null,
   "metadata": {
    "collapsed": false
   },
   "outputs": [],
   "source": [
    "! /software6/apps/pypy/4.0.1/bin/pypy-c approx_pi.py 100000000"
   ]
  },
  {
   "cell_type": "markdown",
   "metadata": {},
   "source": [
    "That was fast. We are still about twice slower than C, but it's not bad, taking into account we did not have to change a single line of code. It's important to note that PyPy has its [limits](http://pypy.org/compat.html):\n",
    "\n",
    "1. It is only Python 2.7.12/3.3.5 compliant, not 3.4/3.5 (yet).\n",
    "2. It supports most of the standard library modules.\n",
    "3. It doesn't support, out of the box, C Python extensions.\n",
    "4. Since Numpy is a C extension, they maintain a [PyPy-compatible fork](https://bitbucket.org/pypy/numpy.git).\n",
    "\n",
    "Let's return to a part the above statement: \"integrate systems more effectively\".\n",
    "\n",
    "Python should really be seen as the glue keeping together multiple components (libraries). And since pure Python is usually pretty slow, compared to C, that means you want to integrate components written in C, and spend most of your computation time inside those libraries, not in your Python code."
   ]
  },
  {
   "cell_type": "markdown",
   "metadata": {},
   "source": [
    "### Numpy\n",
    "\n",
    "Numpy is a big part of speeding up Python scientific software. Numpy is not the subject of study for this workshop but it is worth mentioning how simple loops can be replaced with Numpy arrays. For example the following equation:\n",
    "\n",
    "$$ {\\Large \\sum_{i=0}^{N-1} i/10} $$\n",
    "\n",
    "Could be represented as the following Python code:"
   ]
  },
  {
   "cell_type": "code",
   "execution_count": null,
   "metadata": {
    "collapsed": false
   },
   "outputs": [],
   "source": [
    "N = 100\n",
    "\n",
    "s = 0.\n",
    "for i in range(N):\n",
    "    s += i/10.\n",
    "\n",
    "s"
   ]
  },
  {
   "cell_type": "markdown",
   "metadata": {},
   "source": [
    "And could be replaced by this single, very efficient, statement, after first importing numpy:"
   ]
  },
  {
   "cell_type": "code",
   "execution_count": null,
   "metadata": {
    "collapsed": true
   },
   "outputs": [],
   "source": [
    "import numpy"
   ]
  },
  {
   "cell_type": "code",
   "execution_count": null,
   "metadata": {
    "collapsed": false
   },
   "outputs": [],
   "source": [
    "s = numpy.sum(numpy.arange(N)/10.)\n",
    "s"
   ]
  },
  {
   "cell_type": "markdown",
   "metadata": {},
   "source": [
    "Or, of course:"
   ]
  },
  {
   "cell_type": "code",
   "execution_count": null,
   "metadata": {
    "collapsed": false
   },
   "outputs": [],
   "source": [
    "N*(N-1)/20.0\n",
    "s"
   ]
  },
  {
   "cell_type": "markdown",
   "metadata": {},
   "source": [
    "> ## Using Numpy {.challenge}\n",
    "> \n",
    "> Use Numpy's _arange_ function to speed up the following code, and check with %timeit:\n",
    ">"
   ]
  },
  {
   "cell_type": "code",
   "execution_count": null,
   "metadata": {
    "collapsed": true
   },
   "outputs": [],
   "source": [
    "def approx_pi(intervals):\n",
    "     pi = 0.0\n",
    "     for i in range(intervals):\n",
    "         pi += (4 - 8 * (i % 2)) / (float)(2 * i + 1)\n",
    "     return pi"
   ]
  },
  {
   "cell_type": "code",
   "execution_count": null,
   "metadata": {
    "collapsed": true
   },
   "outputs": [],
   "source": []
  },
  {
   "cell_type": "markdown",
   "metadata": {},
   "source": [
    "> A solution can be found in the solutions/approx_pi_numpy.py file."
   ]
  },
  {
   "cell_type": "code",
   "execution_count": null,
   "metadata": {
    "collapsed": true
   },
   "outputs": [],
   "source": [
    "%load solutions/approx_pi_numpy.py"
   ]
  },
  {
   "cell_type": "markdown",
   "metadata": {},
   "source": [
    "Running the solution for the previous challenge would yield this result:"
   ]
  },
  {
   "cell_type": "code",
   "execution_count": null,
   "metadata": {
    "collapsed": false
   },
   "outputs": [],
   "source": [
    "%run solutions/approx_pi_numpy.py 100000000"
   ]
  },
  {
   "cell_type": "markdown",
   "metadata": {},
   "source": [
    "While not as good as with the PyPy interpreter, it's still quite an improvement compared to our original version. The advantage of using Numpy is that you maintain full compatibility with the official Python release. This is something you want to take into account when deciding whether you should use the PyPy interpreter. It all depends on the libraries you are using and the level of compatibility vs. performance you want to achieve."
   ]
  },
  {
   "cell_type": "code",
   "execution_count": null,
   "metadata": {
    "collapsed": true
   },
   "outputs": [],
   "source": []
  }
 ],
 "metadata": {
  "kernelspec": {
   "display_name": "Python-Workshop",
   "language": "python",
   "name": "python-workshop"
  },
  "language_info": {
   "codemirror_mode": {
    "name": "ipython",
    "version": 3
   },
   "file_extension": ".py",
   "mimetype": "text/x-python",
   "name": "python",
   "nbconvert_exporter": "python",
   "pygments_lexer": "ipython3",
   "version": "3.5.0"
  }
 },
 "nbformat": 4,
 "nbformat_minor": 1
}
