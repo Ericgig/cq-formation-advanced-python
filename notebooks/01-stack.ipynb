{
 "cells": [
  {
   "cell_type": "markdown",
   "metadata": {},
   "source": [
    "---\n",
    "subtitle: The Scientific Python Software Stack\n",
    "---\n",
    "\n",
    "This is a brief summary of the most commonly used scientific software/libraries.\n",
    "\n",
    "### Python\n",
    "\n",
    "The Python language itself: a powerful and easy to learn language that integrates with almost everything imaginable.\n",
    "\n",
    "Reference: [https://www.python.org/](https://www.python.org/)"
   ]
  },
  {
   "cell_type": "code",
   "execution_count": null,
   "metadata": {
    "collapsed": false
   },
   "outputs": [],
   "source": [
    "!python --version"
   ]
  },
  {
   "cell_type": "markdown",
   "metadata": {},
   "source": [
    "### Numpy\n",
    "\n",
    "The (most) fundamental Python package of scientific Python programming. Mainly known for its fast N-dimensional array implementation. It is the basis of most other scientific libraries.\n",
    "\n",
    "Reference: [http://www.numpy.org/](http://www.numpy.org/)"
   ]
  },
  {
   "cell_type": "code",
   "execution_count": null,
   "metadata": {
    "collapsed": false
   },
   "outputs": [],
   "source": [
    "import numpy\n",
    "numpy.__version__"
   ]
  },
  {
   "cell_type": "markdown",
   "metadata": {},
   "source": [
    "### Scipy\n",
    "\n",
    "Python-based and open source scientific libraries, ranging from integration to signal processing and from statistics to image processing.\n",
    "\n",
    "Reference: [http://www.scipy.org/](http://www.scipy.org/)"
   ]
  },
  {
   "cell_type": "code",
   "execution_count": null,
   "metadata": {
    "collapsed": false
   },
   "outputs": [],
   "source": [
    "import scipy\n",
    "scipy.__version__"
   ]
  },
  {
   "cell_type": "markdown",
   "metadata": {},
   "source": [
    "### Jupyter (IPython Notebook)\n",
    "\n",
    "This web interface to the IPython shell (and more) is an interactive computational environment enabling reproducible research.\n",
    "\n",
    "Reference: [http://www.jupyter.org](http://www.jupyter.org)"
   ]
  },
  {
   "cell_type": "markdown",
   "metadata": {},
   "source": [
    "### Matplotlib\n",
    "\n",
    "Widely used plotting library, mostly used for visualization and data analytics.\n",
    "\n",
    "Reference: [http://matplotlib.org/](http://matplotlib.org/)"
   ]
  },
  {
   "cell_type": "code",
   "execution_count": null,
   "metadata": {
    "collapsed": false
   },
   "outputs": [],
   "source": [
    "import matplotlib\n",
    "print(matplotlib.__version__)\n",
    "%matplotlib inline\n",
    "from matplotlib import pyplot\n",
    "pyplot.plot([0,0.5,1],[0,1,0])"
   ]
  },
  {
   "cell_type": "markdown",
   "metadata": {},
   "source": [
    "### Pandas\n",
    "\n",
    "An open source data manipulation/analysis library. It offers R-like functionalities like DataFrame objects.\n",
    "\n",
    "Reference: [http://pandas.pydata.org/](http://pandas.pydata.org/)"
   ]
  },
  {
   "cell_type": "code",
   "execution_count": null,
   "metadata": {
    "collapsed": false
   },
   "outputs": [],
   "source": [
    "!pip install pandas --user\n",
    "import sys, os\n",
    "sys.path.append(os.path.join(os.getenv('HOME'),'.local/lib/python3.5/site-packages'))\n",
    "import pandas\n",
    "pandas.__version__"
   ]
  },
  {
   "cell_type": "markdown",
   "metadata": {},
   "source": [
    "### ... and more!"
   ]
  },
  {
   "cell_type": "code",
   "execution_count": null,
   "metadata": {
    "collapsed": true
   },
   "outputs": [],
   "source": []
  }
 ],
 "metadata": {
  "kernelspec": {
   "display_name": "Python-Workshop",
   "language": "python",
   "name": "python-workshop"
  },
  "language_info": {
   "codemirror_mode": {
    "name": "ipython",
    "version": 3
   },
   "file_extension": ".py",
   "mimetype": "text/x-python",
   "name": "python",
   "nbconvert_exporter": "python",
   "pygments_lexer": "ipython3",
   "version": "3.5.0"
  }
 },
 "nbformat": 4,
 "nbformat_minor": 1
}
