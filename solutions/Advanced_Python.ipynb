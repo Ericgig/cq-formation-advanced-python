{
 "cells": [
  {
   "cell_type": "markdown",
   "metadata": {},
   "source": [
    "# Advanced and Parallel Python"
   ]
  },
  {
   "cell_type": "markdown",
   "metadata": {},
   "source": [
    "## 1- Scientific Python Software Stack"
   ]
  },
  {
   "cell_type": "markdown",
   "metadata": {},
   "source": [
    "### Numpy"
   ]
  },
  {
   "cell_type": "code",
   "execution_count": 1,
   "metadata": {
    "collapsed": false
   },
   "outputs": [
    {
     "name": "stdout",
     "output_type": "stream",
     "text": [
      "Ignoring indexes: https://pypi.python.org/simple\r\n",
      "Requirement already satisfied (use --upgrade to upgrade): numpy in /home/fafor10/.local/share/jupyter/kernels/pyperf_3.5/env/lib/python3.5/site-packages\r\n"
     ]
    }
   ],
   "source": [
    "! pip install numpy\n",
    "import numpy"
   ]
  },
  {
   "cell_type": "markdown",
   "metadata": {},
   "source": [
    "### Scipy"
   ]
  },
  {
   "cell_type": "code",
   "execution_count": 2,
   "metadata": {
    "collapsed": false
   },
   "outputs": [
    {
     "name": "stdout",
     "output_type": "stream",
     "text": [
      "Ignoring indexes: https://pypi.python.org/simple\r\n",
      "Requirement already satisfied (use --upgrade to upgrade): scipy in /home/fafor10/.local/share/jupyter/kernels/pyperf_3.5/env/lib/python3.5/site-packages\r\n"
     ]
    }
   ],
   "source": [
    "! pip install scipy\n",
    "import scipy"
   ]
  },
  {
   "cell_type": "markdown",
   "metadata": {},
   "source": [
    "### Matplotlib"
   ]
  },
  {
   "cell_type": "code",
   "execution_count": 3,
   "metadata": {
    "collapsed": false
   },
   "outputs": [
    {
     "name": "stdout",
     "output_type": "stream",
     "text": [
      "Ignoring indexes: https://pypi.python.org/simple\n",
      "Requirement already satisfied (use --upgrade to upgrade): matplotlib in /home/fafor10/.local/share/jupyter/kernels/pyperf_3.5/env/lib/python3.5/site-packages\n",
      "Requirement already satisfied (use --upgrade to upgrade): numpy>=1.6 in /home/fafor10/.local/share/jupyter/kernels/pyperf_3.5/env/lib/python3.5/site-packages (from matplotlib)\n",
      "Requirement already satisfied (use --upgrade to upgrade): python-dateutil in /home/fafor10/.local/share/jupyter/kernels/pyperf_3.5/env/lib/python3.5/site-packages (from matplotlib)\n",
      "Requirement already satisfied (use --upgrade to upgrade): pyparsing!=2.0.0,!=2.0.4,>=1.5.6 in /home/fafor10/.local/share/jupyter/kernels/pyperf_3.5/env/lib/python3.5/site-packages (from matplotlib)\n",
      "Requirement already satisfied (use --upgrade to upgrade): pytz in /home/fafor10/.local/share/jupyter/kernels/pyperf_3.5/env/lib/python3.5/site-packages (from matplotlib)\n",
      "Requirement already satisfied (use --upgrade to upgrade): cycler in /home/fafor10/.local/share/jupyter/kernels/pyperf_3.5/env/lib/python3.5/site-packages (from matplotlib)\n",
      "Requirement already satisfied (use --upgrade to upgrade): six>=1.5 in /home/fafor10/.local/share/jupyter/kernels/pyperf_3.5/env/lib/python3.5/site-packages (from python-dateutil->matplotlib)\n"
     ]
    }
   ],
   "source": [
    "! pip install matplotlib \n",
    "from matplotlib import pyplot as plt\n",
    "%matplotlib inline"
   ]
  },
  {
   "cell_type": "markdown",
   "metadata": {},
   "source": [
    "### Pandas"
   ]
  },
  {
   "cell_type": "code",
   "execution_count": 4,
   "metadata": {
    "collapsed": false
   },
   "outputs": [
    {
     "name": "stdout",
     "output_type": "stream",
     "text": [
      "Ignoring indexes: https://pypi.python.org/simple\r\n",
      "Requirement already satisfied (use --upgrade to upgrade): pandas in /home/fafor10/.local/share/jupyter/kernels/pyperf_3.5/env/lib/python3.5/site-packages\r\n",
      "Requirement already satisfied (use --upgrade to upgrade): numpy>=1.7.0 in /home/fafor10/.local/share/jupyter/kernels/pyperf_3.5/env/lib/python3.5/site-packages (from pandas)\r\n",
      "Requirement already satisfied (use --upgrade to upgrade): python-dateutil>=2 in /home/fafor10/.local/share/jupyter/kernels/pyperf_3.5/env/lib/python3.5/site-packages (from pandas)\r\n",
      "Requirement already satisfied (use --upgrade to upgrade): pytz>=2011k in /home/fafor10/.local/share/jupyter/kernels/pyperf_3.5/env/lib/python3.5/site-packages (from pandas)\r\n",
      "Requirement already satisfied (use --upgrade to upgrade): six>=1.5 in /home/fafor10/.local/share/jupyter/kernels/pyperf_3.5/env/lib/python3.5/site-packages (from python-dateutil>=2->pandas)\r\n"
     ]
    }
   ],
   "source": [
    "! pip install pandas\n",
    "import pandas"
   ]
  },
  {
   "cell_type": "markdown",
   "metadata": {},
   "source": [
    "### Cython"
   ]
  },
  {
   "cell_type": "code",
   "execution_count": 5,
   "metadata": {
    "collapsed": false
   },
   "outputs": [
    {
     "name": "stdout",
     "output_type": "stream",
     "text": [
      "Ignoring indexes: https://pypi.python.org/simple\r\n",
      "Requirement already satisfied (use --upgrade to upgrade): cython in /home/fafor10/.local/share/jupyter/kernels/pyperf_3.5/env/lib/python3.5/site-packages\r\n"
     ]
    }
   ],
   "source": [
    "! pip install cython\n",
    "%load_ext Cython"
   ]
  },
  {
   "cell_type": "markdown",
   "metadata": {},
   "source": [
    "### Line Profiler"
   ]
  },
  {
   "cell_type": "code",
   "execution_count": 6,
   "metadata": {
    "collapsed": false
   },
   "outputs": [
    {
     "name": "stdout",
     "output_type": "stream",
     "text": [
      "Ignoring indexes: https://pypi.python.org/simple\r\n",
      "Requirement already satisfied (use --upgrade to upgrade): line-profiler in /home/fafor10/.local/share/jupyter/kernels/pyperf_3.5/env/lib/python3.5/site-packages\r\n"
     ]
    }
   ],
   "source": [
    "! pip install line_profiler\n",
    "%load_ext line_profiler"
   ]
  },
  {
   "cell_type": "markdown",
   "metadata": {},
   "source": [
    "### Numba"
   ]
  },
  {
   "cell_type": "code",
   "execution_count": 7,
   "metadata": {
    "collapsed": false
   },
   "outputs": [
    {
     "name": "stdout",
     "output_type": "stream",
     "text": [
      "Ignoring indexes: https://pypi.python.org/simple\n",
      "Requirement already satisfied (use --upgrade to upgrade): numba in /home/fafor10/.local/share/jupyter/kernels/pyperf_3.5/env/lib/python3.5/site-packages\n",
      "Requirement already satisfied (use --upgrade to upgrade): numpy in /home/fafor10/.local/share/jupyter/kernels/pyperf_3.5/env/lib/python3.5/site-packages (from numba)\n",
      "Requirement already satisfied (use --upgrade to upgrade): llvmlite in /home/fafor10/.local/share/jupyter/kernels/pyperf_3.5/env/lib/python3.5/site-packages (from numba)\n"
     ]
    }
   ],
   "source": [
    "! pip install numba\n",
    "import numba"
   ]
  },
  {
   "cell_type": "markdown",
   "metadata": {},
   "source": [
    "## 2- Why accelerating Python?\n",
    "\n",
    "Simple problem, estimating $pi$:\n",
    "\n",
    "$$\\huge{\\pi = \\arctan\\left(1\\right)}$$\n",
    "\n",
    "$$\\huge{\\pi \\approx 4 \\times \\left(\\frac{1}{1} - \\frac{1}{3} + \\frac{1}{5} - \\ldots\\right)}$$\n",
    "\n",
    "### How to write this in Python?"
   ]
  },
  {
   "cell_type": "code",
   "execution_count": null,
   "metadata": {
    "collapsed": false
   },
   "outputs": [],
   "source": [
    "def approx_pi(intervals):\n",
    "    pi = 0\n",
    "    for i in range(intervals):\n",
    "        pi += (4 - 8 * (i % 2)) / (2 * i + 1)\n",
    "    return pi\n",
    "approx_pi(100000)"
   ]
  },
  {
   "cell_type": "markdown",
   "metadata": {},
   "source": [
    "### How to bench it?"
   ]
  },
  {
   "cell_type": "code",
   "execution_count": null,
   "metadata": {
    "collapsed": false
   },
   "outputs": [],
   "source": [
    "%timeit -r 20 -n 100 approx_pi(100000)"
   ]
  },
  {
   "cell_type": "markdown",
   "metadata": {},
   "source": [
    "### How to write this in C?"
   ]
  },
  {
   "cell_type": "code",
   "execution_count": null,
   "metadata": {
    "collapsed": false
   },
   "outputs": [],
   "source": [
    "%%writefile approx_pi.c \n",
    "double approx_pi(int intervals) {\n",
    "    int i;\n",
    "    double pi = 0.0;\n",
    "    for(i = 0; i < intervals; i++) {\n",
    "        pi += (4 - 8 * (i % 2)) / (double)(2 * i + 1);\n",
    "    }\n",
    "    return pi;\n",
    "}"
   ]
  },
  {
   "cell_type": "code",
   "execution_count": null,
   "metadata": {
    "collapsed": false
   },
   "outputs": [],
   "source": [
    "# compile\n",
    "! gcc -o approx_pi.so -fPIC -shared approx_pi.c"
   ]
  },
  {
   "cell_type": "markdown",
   "metadata": {},
   "source": [
    "### How to call C from Python?"
   ]
  },
  {
   "cell_type": "code",
   "execution_count": null,
   "metadata": {
    "collapsed": true
   },
   "outputs": [],
   "source": [
    "import ctypes\n",
    "import os"
   ]
  },
  {
   "cell_type": "code",
   "execution_count": null,
   "metadata": {
    "collapsed": false
   },
   "outputs": [],
   "source": [
    "approx_pi_c = ctypes.cdll.LoadLibrary(os.path.join(os.getcwd(), 'approx_pi.so')).approx_pi\n",
    "approx_pi_c.restype = ctypes.c_double"
   ]
  },
  {
   "cell_type": "code",
   "execution_count": null,
   "metadata": {
    "collapsed": false
   },
   "outputs": [],
   "source": [
    "# bench\n",
    "%timeit approx_pi_c(100000)"
   ]
  },
  {
   "cell_type": "markdown",
   "metadata": {},
   "source": [
    "### Data Analytics with Timeit"
   ]
  },
  {
   "cell_type": "code",
   "execution_count": null,
   "metadata": {
    "collapsed": true
   },
   "outputs": [],
   "source": [
    "import timeit"
   ]
  },
  {
   "cell_type": "code",
   "execution_count": null,
   "metadata": {
    "collapsed": true
   },
   "outputs": [],
   "source": [
    "results = {}"
   ]
  },
  {
   "cell_type": "code",
   "execution_count": null,
   "metadata": {
    "collapsed": false
   },
   "outputs": [],
   "source": [
    "# Admettons que le best of 3 ça ne fasse pas notre affaire vraiment\n",
    "result = %timeit -q -o -r 10 -n 1 approx_pi(int(1e5))\n",
    "results[\"CPython\"] = result.all_runs"
   ]
  },
  {
   "cell_type": "code",
   "execution_count": null,
   "metadata": {
    "collapsed": false
   },
   "outputs": [],
   "source": [
    "result = %timeit -q -o -r 10 -n 1 approx_pi_c(int(1e5))\n",
    "results[\"ctypes\"] = result.all_runs"
   ]
  },
  {
   "cell_type": "code",
   "execution_count": null,
   "metadata": {
    "collapsed": false
   },
   "outputs": [],
   "source": [
    "pandas.DataFrame(results).describe()"
   ]
  },
  {
   "cell_type": "markdown",
   "metadata": {},
   "source": [
    "### Using timeit to test hypothesis"
   ]
  },
  {
   "cell_type": "code",
   "execution_count": null,
   "metadata": {
    "collapsed": true
   },
   "outputs": [],
   "source": [
    "def sum_values(dict):\n",
    "    for key in range(10)"
   ]
  },
  {
   "cell_type": "code",
   "execution_count": null,
   "metadata": {
    "collapsed": true
   },
   "outputs": [],
   "source": []
  },
  {
   "cell_type": "markdown",
   "metadata": {},
   "source": [
    "## 3- Vectorizing with Numpy\n",
    "\n",
    "$$\\huge{\\sum_{i=0}^N \\frac{i}{10}}$$"
   ]
  },
  {
   "cell_type": "code",
   "execution_count": null,
   "metadata": {
    "collapsed": false
   },
   "outputs": [],
   "source": [
    "def numpy_sum(N):\n",
    "    s = numpy.float(0)\n",
    "    for i in range(N):\n",
    "        s += numpy.float(i) / 10.\n",
    "    return s\n",
    "\n",
    "def numpy_sum(N):\n",
    "    return numpy.sum(numpy.arange(N / 10, step=0.1))\n",
    "\n",
    "# def numpy_sum(N):\n",
    "#     return numpy.sum(numpy.arange(N) / 10.)\n",
    "\n",
    "%timeit numpy_sum(100000)"
   ]
  },
  {
   "cell_type": "code",
   "execution_count": null,
   "metadata": {
    "collapsed": false
   },
   "outputs": [],
   "source": [
    "def numpy_sum(N):\n",
    "    return numpy.sum(numpy.arange(0, N+1, 0.1))"
   ]
  },
  {
   "cell_type": "code",
   "execution_count": null,
   "metadata": {
    "collapsed": false
   },
   "outputs": [],
   "source": [
    "def numpy_sum(N):\n",
    "    return numpy.sum(numpy.arange(0, N / 10, 0.1))\n",
    "numpy_sum(100000)"
   ]
  },
  {
   "cell_type": "markdown",
   "metadata": {},
   "source": [
    "### Using Numpy\n",
    "#### Exercise 1\n",
    "\n",
    "Use numpy's arange function to speedup the Pi approximation function"
   ]
  },
  {
   "cell_type": "code",
   "execution_count": null,
   "metadata": {
    "collapsed": false
   },
   "outputs": [],
   "source": [
    "def approx_pi(intervals):\n",
    "    pi = 0.0\n",
    "    for i in range(intervals):\n",
    "        pi += (4 - 8 * (i % 2)) / (float)(2 * i + 1)\n",
    "    return pi\n",
    "%timeit approx_pi(100000)"
   ]
  },
  {
   "cell_type": "code",
   "execution_count": null,
   "metadata": {
    "collapsed": false
   },
   "outputs": [],
   "source": [
    "def approx_pi_numpy(intervals):\n",
    "    num = numpy.array([4, -4] * int(intervals / 2), dtype=float)\n",
    "    denum = numpy.arange(1, intervals * 2 + 1, 2, dtype=float)\n",
    "    return numpy.sum(num / denum)\n",
    "approx_pi_numpy(100000)"
   ]
  },
  {
   "cell_type": "code",
   "execution_count": null,
   "metadata": {
    "collapsed": false
   },
   "outputs": [],
   "source": [
    "%timeit approx_pi_numpy(100000)"
   ]
  },
  {
   "cell_type": "markdown",
   "metadata": {},
   "source": [
    "#### Exercise 2\n",
    "\n",
    "- Run your function and confirm the result is correct\n",
    "- Benchmark your function and keep the results"
   ]
  },
  {
   "cell_type": "code",
   "execution_count": null,
   "metadata": {
    "collapsed": true
   },
   "outputs": [],
   "source": []
  },
  {
   "cell_type": "markdown",
   "metadata": {},
   "source": [
    "## 4- Finding Bottlenecks"
   ]
  },
  {
   "cell_type": "code",
   "execution_count": null,
   "metadata": {
    "collapsed": true
   },
   "outputs": [],
   "source": [
    "#import\n",
    "\n",
    "def gen_data(n):\n",
    "    pass\n",
    "\n",
    "def sum_nexts(numbers):\n",
    "    pass\n",
    "\n",
    "def main(n):\n",
    "    pass"
   ]
  },
  {
   "cell_type": "markdown",
   "metadata": {},
   "source": [
    "$$\\huge{\\text{sum}_i = \\sum_{a=i+1}^N \\text{number}_a}$$"
   ]
  },
  {
   "cell_type": "markdown",
   "metadata": {},
   "source": [
    "#### Exercise 3\n",
    "\n",
    "Benchmark the function execution time with the timeit magic we have seen earlier."
   ]
  },
  {
   "cell_type": "code",
   "execution_count": null,
   "metadata": {
    "collapsed": true
   },
   "outputs": [],
   "source": []
  },
  {
   "cell_type": "markdown",
   "metadata": {},
   "source": [
    "#### Profiling with prun"
   ]
  },
  {
   "cell_type": "code",
   "execution_count": null,
   "metadata": {
    "collapsed": true
   },
   "outputs": [],
   "source": []
  },
  {
   "cell_type": "code",
   "execution_count": null,
   "metadata": {
    "collapsed": true
   },
   "outputs": [],
   "source": [
    "# prun sorted"
   ]
  },
  {
   "cell_type": "markdown",
   "metadata": {},
   "source": [
    "#### Getting more details with line profiling"
   ]
  },
  {
   "cell_type": "code",
   "execution_count": null,
   "metadata": {
    "collapsed": true
   },
   "outputs": [],
   "source": []
  },
  {
   "cell_type": "code",
   "execution_count": null,
   "metadata": {
    "collapsed": true
   },
   "outputs": [],
   "source": []
  },
  {
   "cell_type": "markdown",
   "metadata": {},
   "source": [
    "#### Comparing with Numpy"
   ]
  },
  {
   "cell_type": "code",
   "execution_count": null,
   "metadata": {
    "collapsed": true
   },
   "outputs": [],
   "source": [
    "def gen_data_np(n):\n",
    "    pass\n",
    "\n",
    "def sum_nexts_np(numbers):\n",
    "    pass\n",
    "\n",
    "def main_np(n):\n",
    "    pass"
   ]
  },
  {
   "cell_type": "code",
   "execution_count": null,
   "metadata": {
    "collapsed": true
   },
   "outputs": [],
   "source": []
  },
  {
   "cell_type": "markdown",
   "metadata": {},
   "source": [
    "#### Food for thoughts\n",
    "\n",
    "- What happends with `sum_nexts_np` if `numbers` is not a numpy array? \n",
    "- How to circumvent this?\n",
    "- What is the complexity of this algorithm?\n",
    "- Can we do better than this in pure Python?"
   ]
  },
  {
   "cell_type": "code",
   "execution_count": null,
   "metadata": {
    "collapsed": true
   },
   "outputs": [],
   "source": []
  },
  {
   "cell_type": "markdown",
   "metadata": {},
   "source": [
    "#### Exercise 4: More Data Processing\n",
    "\n",
    "Use the line profiler, find hotspots and optimize the following function."
   ]
  },
  {
   "cell_type": "code",
   "execution_count": null,
   "metadata": {
    "collapsed": false
   },
   "outputs": [],
   "source": [
    "def generate_data():\n",
    "    with open(\"inputs.dat\", \"w\") as fp:\n",
    "        for _ in xrange(5000):\n",
    "            for _ in xrange(5000):\n",
    "                fp.write(\"{0},\".format(random.random()))\n",
    "            fp.write(\"\\n\")\n",
    "\n",
    "def read_data():\n",
    "    data = []\n",
    "    fp = open(\"inputs.dat\", \"r\")\n",
    "\n",
    "    line = 1\n",
    "    while line:\n",
    "        line = fp.readline()\n",
    "        if line:\n",
    "            row = []\n",
    "            for elem in line.split(','):\n",
    "                elem = elem.strip()\n",
    "                if elem:\n",
    "                    row.append(float(elem))\n",
    "            data.append(row)\n",
    "        \n",
    "    fp.close()\n",
    "    return data\n",
    "\n",
    "def process_A(data):\n",
    "    \"\"\"\n",
    "    Return a new matrix of the same shape as data, with each original\n",
    "    element squared by it's transposition equivalent.\n",
    "\n",
    "    result[i][j] = data[i][j] ** data[j][i]\n",
    "    \"\"\"\n",
    "    result = []\n",
    "    for i in range(len(data)):\n",
    "        row = []\n",
    "        for j in range(len(data[i])):\n",
    "            row.append(data[i][j] ** data[j][i])\n",
    "        result.append(row)\n",
    "    return result\n",
    "\n",
    "def process_B(m1, m2):\n",
    "    \"\"\"\n",
    "    Return the sum of the difference between each corresponding\n",
    "    elements of two square matrices.\n",
    "\n",
    "    diff = (m2[0][0] - m1[0][0]) + (m2[0][1] - m1[0][1]) + ...\n",
    "    \"\"\"\n",
    "\n",
    "    diff = 0.\n",
    "    for i in range(len(m1)):\n",
    "        for j in range(len(m1[i])):\n",
    "            diff += m2[i][j] - m1[i][j]\n",
    "    return diff\n",
    "\n",
    "def main():\n",
    "    generate_data()\n",
    "    data = read_data()\n",
    "    result_1 = process_A(data)\n",
    "    print(\"Difference is: \", process_B(data, result_1))"
   ]
  },
  {
   "cell_type": "code",
   "execution_count": null,
   "metadata": {
    "collapsed": true
   },
   "outputs": [],
   "source": []
  },
  {
   "cell_type": "markdown",
   "metadata": {},
   "source": [
    "## 5- Compiling Python Code"
   ]
  },
  {
   "cell_type": "code",
   "execution_count": null,
   "metadata": {
    "collapsed": true
   },
   "outputs": [],
   "source": []
  },
  {
   "cell_type": "markdown",
   "metadata": {},
   "source": [
    "## 6- Using Multiple Cores"
   ]
  },
  {
   "cell_type": "code",
   "execution_count": null,
   "metadata": {
    "collapsed": true
   },
   "outputs": [],
   "source": []
  },
  {
   "cell_type": "markdown",
   "metadata": {},
   "source": [
    "## 7- Scaling Beyond One Machine"
   ]
  },
  {
   "cell_type": "code",
   "execution_count": null,
   "metadata": {
    "collapsed": true
   },
   "outputs": [],
   "source": []
  }
 ],
 "metadata": {
  "kernelspec": {
   "display_name": "pyperf_3.5",
   "language": "python",
   "name": "pyperf_3.5"
  },
  "language_info": {
   "codemirror_mode": {
    "name": "ipython",
    "version": 3
   },
   "file_extension": ".py",
   "mimetype": "text/x-python",
   "name": "python",
   "nbconvert_exporter": "python",
   "pygments_lexer": "ipython3",
   "version": "3.5.0"
  }
 },
 "nbformat": 4,
 "nbformat_minor": 0
}
